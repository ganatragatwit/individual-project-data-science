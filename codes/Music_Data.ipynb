{
 "cells": [
  {
   "cell_type": "code",
   "execution_count": 1,
   "metadata": {},
   "outputs": [],
   "source": [
    "import pandas as pd\n",
    "#!pip install geopandas\n",
    "#import geopandas as gpd #FOR MAP CHART\n",
    "import numpy as np\n",
    "import matplotlib.pyplot as plt\n",
    "import seaborn as sns"
   ]
  },
  {
   "cell_type": "code",
   "execution_count": 2,
   "metadata": {},
   "outputs": [
    {
     "data": {
      "text/html": [
       "<div>\n",
       "<style scoped>\n",
       "    .dataframe tbody tr th:only-of-type {\n",
       "        vertical-align: middle;\n",
       "    }\n",
       "\n",
       "    .dataframe tbody tr th {\n",
       "        vertical-align: top;\n",
       "    }\n",
       "\n",
       "    .dataframe thead th {\n",
       "        text-align: right;\n",
       "    }\n",
       "</style>\n",
       "<table border=\"1\" class=\"dataframe\">\n",
       "  <thead>\n",
       "    <tr style=\"text-align: right;\">\n",
       "      <th></th>\n",
       "      <th>Genre</th>\n",
       "      <th>Share of Consumption (%)</th>\n",
       "    </tr>\n",
       "  </thead>\n",
       "  <tbody>\n",
       "    <tr>\n",
       "      <th>0</th>\n",
       "      <td>Hip-Hop/Rap</td>\n",
       "      <td>21.7</td>\n",
       "    </tr>\n",
       "    <tr>\n",
       "      <th>1</th>\n",
       "      <td>Pop</td>\n",
       "      <td>20.1</td>\n",
       "    </tr>\n",
       "    <tr>\n",
       "      <th>2</th>\n",
       "      <td>Rock</td>\n",
       "      <td>14.0</td>\n",
       "    </tr>\n",
       "    <tr>\n",
       "      <th>3</th>\n",
       "      <td>R&amp;B</td>\n",
       "      <td>10.6</td>\n",
       "    </tr>\n",
       "    <tr>\n",
       "      <th>4</th>\n",
       "      <td>Latin</td>\n",
       "      <td>9.4</td>\n",
       "    </tr>\n",
       "    <tr>\n",
       "      <th>5</th>\n",
       "      <td>Country</td>\n",
       "      <td>8.7</td>\n",
       "    </tr>\n",
       "    <tr>\n",
       "      <th>6</th>\n",
       "      <td>EDM</td>\n",
       "      <td>3.9</td>\n",
       "    </tr>\n",
       "    <tr>\n",
       "      <th>7</th>\n",
       "      <td>Religious</td>\n",
       "      <td>3.2</td>\n",
       "    </tr>\n",
       "    <tr>\n",
       "      <th>8</th>\n",
       "      <td>Stage &amp; Screen</td>\n",
       "      <td>2.7</td>\n",
       "    </tr>\n",
       "    <tr>\n",
       "      <th>9</th>\n",
       "      <td>World</td>\n",
       "      <td>1.5</td>\n",
       "    </tr>\n",
       "    <tr>\n",
       "      <th>10</th>\n",
       "      <td>Jazz</td>\n",
       "      <td>1.1</td>\n",
       "    </tr>\n",
       "    <tr>\n",
       "      <th>11</th>\n",
       "      <td>Reggae</td>\n",
       "      <td>1.0</td>\n",
       "    </tr>\n",
       "    <tr>\n",
       "      <th>12</th>\n",
       "      <td>Classical</td>\n",
       "      <td>1.0</td>\n",
       "    </tr>\n",
       "    <tr>\n",
       "      <th>13</th>\n",
       "      <td>Children's</td>\n",
       "      <td>0.6</td>\n",
       "    </tr>\n",
       "    <tr>\n",
       "      <th>14</th>\n",
       "      <td>New Age</td>\n",
       "      <td>0.5</td>\n",
       "    </tr>\n",
       "  </tbody>\n",
       "</table>\n",
       "</div>"
      ],
      "text/plain": [
       "             Genre  Share of Consumption (%)\n",
       "0      Hip-Hop/Rap                      21.7\n",
       "1              Pop                      20.1\n",
       "2             Rock                      14.0\n",
       "3              R&B                      10.6\n",
       "4            Latin                       9.4\n",
       "5          Country                       8.7\n",
       "6              EDM                       3.9\n",
       "7        Religious                       3.2\n",
       "8   Stage & Screen                       2.7\n",
       "9            World                       1.5\n",
       "10            Jazz                       1.1\n",
       "11          Reggae                       1.0\n",
       "12       Classical                       1.0\n",
       "13      Children's                       0.6\n",
       "14         New Age                       0.5"
      ]
     },
     "execution_count": 2,
     "metadata": {},
     "output_type": "execute_result"
    }
   ],
   "source": [
    "df1 = pd.read_excel('US_Music_Genre_Consumption_2018.xlsx')\n",
    "df1"
   ]
  },
  {
   "cell_type": "code",
   "execution_count": 26,
   "metadata": {},
   "outputs": [
    {
     "data": {
      "text/plain": [
       "Text(0, 0.5, 'Genre')"
      ]
     },
     "execution_count": 26,
     "metadata": {},
     "output_type": "execute_result"
    },
    {
     "data": {
      "image/png": "[encoded data removed]",
      "text/plain": [
       "<Figure size 432x288 with 1 Axes>"
      ]
     },
     "metadata": {
      "needs_background": "light"
     },
     "output_type": "display_data"
    }
   ],
   "source": [
    "fig, ax = plt.subplots()\n",
    "\n",
    "my_colors = ['r','g','b','k','y','m','c']\n",
    "\n",
    "ax.barh(df1['Genre'], df1['Share of Consumption (%)'], color = my_colors)\n",
    "\n",
    "plt.title(\"2018 Music Album Consumption in the U.S. by Genre\", \n",
    "          fontweight = 'bold', fontsize = 12)\n",
    "plt.xlabel(\"Share of Consumption (%)\", fontweight = 'bold', fontsize = 12)\n",
    "plt.ylabel(\"Genre\", fontweight = 'bold', fontsize = 12)"
   ]
  },
  {
   "cell_type": "code",
   "execution_count": 10,
   "metadata": {},
   "outputs": [
    {
     "data": {
      "text/html": [
       "<div>\n",
       "<style scoped>\n",
       "    .dataframe tbody tr th:only-of-type {\n",
       "        vertical-align: middle;\n",
       "    }\n",
       "\n",
       "    .dataframe tbody tr th {\n",
       "        vertical-align: top;\n",
       "    }\n",
       "\n",
       "    .dataframe thead th {\n",
       "        text-align: right;\n",
       "    }\n",
       "</style>\n",
       "<table border=\"1\" class=\"dataframe\">\n",
       "  <thead>\n",
       "    <tr style=\"text-align: right;\">\n",
       "      <th></th>\n",
       "      <th>Artist, \"Song\"</th>\n",
       "      <th>Number of Detected on Demand Streams (Millions)</th>\n",
       "    </tr>\n",
       "  </thead>\n",
       "  <tbody>\n",
       "    <tr>\n",
       "      <th>0</th>\n",
       "      <td>Morgan Wallen, \"Last Night\"</td>\n",
       "      <td>1015.00</td>\n",
       "    </tr>\n",
       "    <tr>\n",
       "      <th>1</th>\n",
       "      <td>SZA, \"Kill Bill\"</td>\n",
       "      <td>802.60</td>\n",
       "    </tr>\n",
       "    <tr>\n",
       "      <th>2</th>\n",
       "      <td>Zach Bryan, \"Something in the Orange\"</td>\n",
       "      <td>656.07</td>\n",
       "    </tr>\n",
       "    <tr>\n",
       "      <th>3</th>\n",
       "      <td>Miley Cyrus, \"Flowers\"</td>\n",
       "      <td>634.42</td>\n",
       "    </tr>\n",
       "    <tr>\n",
       "      <th>4</th>\n",
       "      <td>SZA, \"Snooze\"</td>\n",
       "      <td>550.83</td>\n",
       "    </tr>\n",
       "    <tr>\n",
       "      <th>5</th>\n",
       "      <td>The Weeknd, \"Die for You\"</td>\n",
       "      <td>539.29</td>\n",
       "    </tr>\n",
       "    <tr>\n",
       "      <th>6</th>\n",
       "      <td>Eslabon Armado x Peso Pluma \"Ella Baila Sola\"</td>\n",
       "      <td>526.34</td>\n",
       "    </tr>\n",
       "    <tr>\n",
       "      <th>7</th>\n",
       "      <td>Luke Combs, \"Fast Car\"</td>\n",
       "      <td>525.51</td>\n",
       "    </tr>\n",
       "    <tr>\n",
       "      <th>8</th>\n",
       "      <td>Morgan Wallen, \"You Proof\"</td>\n",
       "      <td>517.58</td>\n",
       "    </tr>\n",
       "    <tr>\n",
       "      <th>9</th>\n",
       "      <td>Taylor Swift, \"Cruel Summer\"</td>\n",
       "      <td>507.78</td>\n",
       "    </tr>\n",
       "  </tbody>\n",
       "</table>\n",
       "</div>"
      ],
      "text/plain": [
       "                                  Artist, \"Song\"  \\\n",
       "0                    Morgan Wallen, \"Last Night\"   \n",
       "1                               SZA, \"Kill Bill\"   \n",
       "2          Zach Bryan, \"Something in the Orange\"   \n",
       "3                         Miley Cyrus, \"Flowers\"   \n",
       "4                                  SZA, \"Snooze\"   \n",
       "5                      The Weeknd, \"Die for You\"   \n",
       "6  Eslabon Armado x Peso Pluma \"Ella Baila Sola\"   \n",
       "7                         Luke Combs, \"Fast Car\"   \n",
       "8                     Morgan Wallen, \"You Proof\"   \n",
       "9                   Taylor Swift, \"Cruel Summer\"   \n",
       "\n",
       "   Number of Detected on Demand Streams (Millions)  \n",
       "0                                          1015.00  \n",
       "1                                           802.60  \n",
       "2                                           656.07  \n",
       "3                                           634.42  \n",
       "4                                           550.83  \n",
       "5                                           539.29  \n",
       "6                                           526.34  \n",
       "7                                           525.51  \n",
       "8                                           517.58  \n",
       "9                                           507.78  "
      ]
     },
     "execution_count": 10,
     "metadata": {},
     "output_type": "execute_result"
    }
   ],
   "source": [
    "df2 = pd.read_excel('Popular_Songs_US_2023.xlsx')\n",
    "df2"
   ]
  },
  {
   "cell_type": "code",
   "execution_count": 24,
   "metadata": {},
   "outputs": [
    {
     "data": {
      "text/plain": [
       "Text(0, 0.5, 'Artist, \"Song\"')"
      ]
     },
     "execution_count": 24,
     "metadata": {},
     "output_type": "execute_result"
    },
    {
     "data": {
      "image/png": "[encoded data removed]",
      "text/plain": [
       "<Figure size 432x288 with 1 Axes>"
      ]
     },
     "metadata": {
      "needs_background": "light"
     },
     "output_type": "display_data"
    }
   ],
   "source": [
    "fig, ax = plt.subplots()\n",
    "\n",
    "my_colors = ['r','g','b','k','y','m','c']\n",
    "\n",
    "ax.barh(df2['Artist, \"Song\"'], df2['Number of Detected on Demand Streams (Millions)'], color = my_colors)\n",
    "\n",
    "plt.title(\"2023 Most Streamed Songs in the U.S.\", \n",
    "          fontweight = 'bold', fontsize = 12)\n",
    "plt.xlabel('Streams(Millions)', fontweight = 'bold', fontsize = 12)\n",
    "plt.ylabel('Artist, \"Song\"', fontweight = 'bold', fontsize = 12)"
   ]
  },
  {
   "cell_type": "code",
   "execution_count": 12,
   "metadata": {},
   "outputs": [
    {
     "data": {
      "text/html": [
       "<div>\n",
       "<style scoped>\n",
       "    .dataframe tbody tr th:only-of-type {\n",
       "        vertical-align: middle;\n",
       "    }\n",
       "\n",
       "    .dataframe tbody tr th {\n",
       "        vertical-align: top;\n",
       "    }\n",
       "\n",
       "    .dataframe thead th {\n",
       "        text-align: right;\n",
       "    }\n",
       "</style>\n",
       "<table border=\"1\" class=\"dataframe\">\n",
       "  <thead>\n",
       "    <tr style=\"text-align: right;\">\n",
       "      <th></th>\n",
       "      <th>Artist: \"Album\"</th>\n",
       "      <th>Streams on Spotify (Millions)</th>\n",
       "    </tr>\n",
       "  </thead>\n",
       "  <tbody>\n",
       "    <tr>\n",
       "      <th>0</th>\n",
       "      <td>Post Malone: \"Beerbongs and Bentleys\"</td>\n",
       "      <td>12.20</td>\n",
       "    </tr>\n",
       "    <tr>\n",
       "      <th>1</th>\n",
       "      <td>XXXTentacion: \"?\"</td>\n",
       "      <td>11.50</td>\n",
       "    </tr>\n",
       "    <tr>\n",
       "      <th>2</th>\n",
       "      <td>Drake: \"Scorpion\"</td>\n",
       "      <td>10.50</td>\n",
       "    </tr>\n",
       "    <tr>\n",
       "      <th>3</th>\n",
       "      <td>Travis Scott: \"Astroworld\"</td>\n",
       "      <td>9.80</td>\n",
       "    </tr>\n",
       "    <tr>\n",
       "      <th>4</th>\n",
       "      <td>Juice WRLD: \"Goodbye &amp; Good Riddance\"</td>\n",
       "      <td>9.79</td>\n",
       "    </tr>\n",
       "    <tr>\n",
       "      <th>5</th>\n",
       "      <td>Shawn Mendes: \"Shawn Mendes\"</td>\n",
       "      <td>7.70</td>\n",
       "    </tr>\n",
       "    <tr>\n",
       "      <th>6</th>\n",
       "      <td>Bad Bunny: \"X 100pre\"</td>\n",
       "      <td>6.20</td>\n",
       "    </tr>\n",
       "    <tr>\n",
       "      <th>7</th>\n",
       "      <td>Lady Gaga and Bradley Cooper: \"A Star is Born\"</td>\n",
       "      <td>6.15</td>\n",
       "    </tr>\n",
       "    <tr>\n",
       "      <th>8</th>\n",
       "      <td>Anne-Marie: \"Speak Your Mind\"</td>\n",
       "      <td>6.00</td>\n",
       "    </tr>\n",
       "    <tr>\n",
       "      <th>9</th>\n",
       "      <td>Various Artists: \"Spider-Man: Into The Spider-...</td>\n",
       "      <td>5.70</td>\n",
       "    </tr>\n",
       "  </tbody>\n",
       "</table>\n",
       "</div>"
      ],
      "text/plain": [
       "                                     Artist: \"Album\"  \\\n",
       "0              Post Malone: \"Beerbongs and Bentleys\"   \n",
       "1                                  XXXTentacion: \"?\"   \n",
       "2                                  Drake: \"Scorpion\"   \n",
       "3                         Travis Scott: \"Astroworld\"   \n",
       "4              Juice WRLD: \"Goodbye & Good Riddance\"   \n",
       "5                       Shawn Mendes: \"Shawn Mendes\"   \n",
       "6                              Bad Bunny: \"X 100pre\"   \n",
       "7     Lady Gaga and Bradley Cooper: \"A Star is Born\"   \n",
       "8                      Anne-Marie: \"Speak Your Mind\"   \n",
       "9  Various Artists: \"Spider-Man: Into The Spider-...   \n",
       "\n",
       "   Streams on Spotify (Millions)  \n",
       "0                          12.20  \n",
       "1                          11.50  \n",
       "2                          10.50  \n",
       "3                           9.80  \n",
       "4                           9.79  \n",
       "5                           7.70  \n",
       "6                           6.20  \n",
       "7                           6.15  \n",
       "8                           6.00  \n",
       "9                           5.70  "
      ]
     },
     "execution_count": 12,
     "metadata": {},
     "output_type": "execute_result"
    }
   ],
   "source": [
    "df3 = pd.read_excel('Most_Streamed_Albums_2018.xlsx')\n",
    "df3"
   ]
  },
  {
   "cell_type": "code",
   "execution_count": 23,
   "metadata": {},
   "outputs": [
    {
     "data": {
      "text/plain": [
       "Text(0, 0.5, 'Artist: \"Album\"')"
      ]
     },
     "execution_count": 23,
     "metadata": {},
     "output_type": "execute_result"
    },
    {
     "data": {
      "image/png": "[encoded data removed]",
      "text/plain": [
       "<Figure size 432x288 with 1 Axes>"
      ]
     },
     "metadata": {
      "needs_background": "light"
     },
     "output_type": "display_data"
    }
   ],
   "source": [
    "fig, ax = plt.subplots()\n",
    "\n",
    "my_colors = ['r','g','b','k','y','m','c']\n",
    "\n",
    "ax.barh(df3['Artist: \"Album\"'], df3['Streams on Spotify (Millions)'], color = my_colors)\n",
    "\n",
    "plt.title(\"2018 Most Streamed Albums in the U.S.\", \n",
    "          fontweight = 'bold', fontsize = 12)\n",
    "plt.xlabel('Streams on Spotify (Millions)', fontweight = 'bold', fontsize = 12)\n",
    "plt.ylabel('Artist: \"Album\"', fontweight = 'bold', fontsize = 12)"
   ]
  },
  {
   "cell_type": "code",
   "execution_count": 27,
   "metadata": {},
   "outputs": [
    {
     "data": {
      "text/html": [
       "<div>\n",
       "<style scoped>\n",
       "    .dataframe tbody tr th:only-of-type {\n",
       "        vertical-align: middle;\n",
       "    }\n",
       "\n",
       "    .dataframe tbody tr th {\n",
       "        vertical-align: top;\n",
       "    }\n",
       "\n",
       "    .dataframe thead th {\n",
       "        text-align: right;\n",
       "    }\n",
       "</style>\n",
       "<table border=\"1\" class=\"dataframe\">\n",
       "  <thead>\n",
       "    <tr style=\"text-align: right;\">\n",
       "      <th></th>\n",
       "      <th>Artist: \"Album\"</th>\n",
       "      <th>Spotify Streams (Millions)</th>\n",
       "    </tr>\n",
       "  </thead>\n",
       "  <tbody>\n",
       "    <tr>\n",
       "      <th>0</th>\n",
       "      <td>Karol G: \"Manana Sera Bonito\"</td>\n",
       "      <td>6.80</td>\n",
       "    </tr>\n",
       "    <tr>\n",
       "      <th>1</th>\n",
       "      <td>Morgan Wallen: \"One Thing at a Time</td>\n",
       "      <td>6.20</td>\n",
       "    </tr>\n",
       "    <tr>\n",
       "      <th>2</th>\n",
       "      <td>Peso Pluma: \"Genesis\"</td>\n",
       "      <td>5.30</td>\n",
       "    </tr>\n",
       "    <tr>\n",
       "      <th>3</th>\n",
       "      <td>Travis Scott: \"Utopia\"</td>\n",
       "      <td>5.20</td>\n",
       "    </tr>\n",
       "    <tr>\n",
       "      <th>4</th>\n",
       "      <td>Jung Kook: \"Golden\"</td>\n",
       "      <td>4.80</td>\n",
       "    </tr>\n",
       "    <tr>\n",
       "      <th>5</th>\n",
       "      <td>Bad Bunny: \"Nadie Sabe Lo Que Va A Pasar Manana\"</td>\n",
       "      <td>4.70</td>\n",
       "    </tr>\n",
       "    <tr>\n",
       "      <th>6</th>\n",
       "      <td>Taylor Swift: \"1989 (Taylor's Version)\"</td>\n",
       "      <td>4.69</td>\n",
       "    </tr>\n",
       "    <tr>\n",
       "      <th>7</th>\n",
       "      <td>Tiesto: \"Drive\"</td>\n",
       "      <td>4.50</td>\n",
       "    </tr>\n",
       "    <tr>\n",
       "      <th>8</th>\n",
       "      <td>Olivia Rodrigo: \"Guts\"</td>\n",
       "      <td>4.40</td>\n",
       "    </tr>\n",
       "    <tr>\n",
       "      <th>9</th>\n",
       "      <td>Grupo Frontera: \"El Comienzo\"</td>\n",
       "      <td>4.20</td>\n",
       "    </tr>\n",
       "  </tbody>\n",
       "</table>\n",
       "</div>"
      ],
      "text/plain": [
       "                                    Artist: \"Album\"  \\\n",
       "0                     Karol G: \"Manana Sera Bonito\"   \n",
       "1               Morgan Wallen: \"One Thing at a Time   \n",
       "2                             Peso Pluma: \"Genesis\"   \n",
       "3                            Travis Scott: \"Utopia\"   \n",
       "4                               Jung Kook: \"Golden\"   \n",
       "5  Bad Bunny: \"Nadie Sabe Lo Que Va A Pasar Manana\"   \n",
       "6           Taylor Swift: \"1989 (Taylor's Version)\"   \n",
       "7                                   Tiesto: \"Drive\"   \n",
       "8                            Olivia Rodrigo: \"Guts\"   \n",
       "9                     Grupo Frontera: \"El Comienzo\"   \n",
       "\n",
       "   Spotify Streams (Millions)  \n",
       "0                        6.80  \n",
       "1                        6.20  \n",
       "2                        5.30  \n",
       "3                        5.20  \n",
       "4                        4.80  \n",
       "5                        4.70  \n",
       "6                        4.69  \n",
       "7                        4.50  \n",
       "8                        4.40  \n",
       "9                        4.20  "
      ]
     },
     "execution_count": 27,
     "metadata": {},
     "output_type": "execute_result"
    }
   ],
   "source": [
    "df4 = pd.read_excel('Most_Streamed_Albums_2023.xlsx')\n",
    "df4"
   ]
  },
  {
   "cell_type": "code",
   "execution_count": 30,
   "metadata": {},
   "outputs": [
    {
     "data": {
      "text/plain": [
       "Text(0, 0.5, 'Artist: \"Album\"')"
      ]
     },
     "execution_count": 30,
     "metadata": {},
     "output_type": "execute_result"
    },
    {
     "data": {
      "image/png": "[encoded data removed]",
      "text/plain": [
       "<Figure size 432x288 with 1 Axes>"
      ]
     },
     "metadata": {
      "needs_background": "light"
     },
     "output_type": "display_data"
    }
   ],
   "source": [
    "fig, ax = plt.subplots()\n",
    "\n",
    "my_colors = ['r','g','b','k','y','m','c']\n",
    "\n",
    "ax.barh(df4['Artist: \"Album\"'], df4['Spotify Streams (Millions)'], color = my_colors)\n",
    "\n",
    "plt.title(\"2023 Most Streamed Albums in the U.S.\", \n",
    "          fontweight = 'bold', fontsize = 12)\n",
    "plt.xlabel('Streams on Spotify (Millions)', fontweight = 'bold', fontsize = 12)\n",
    "plt.ylabel('Artist: \"Album\"', fontweight = 'bold', fontsize = 12)"
   ]
  },
  {
   "cell_type": "code",
   "execution_count": null,
   "metadata": {},
   "outputs": [],
   "source": []
  }
 ],
 "metadata": {
  "kernelspec": {
   "display_name": "Python 3",
   "language": "python",
   "name": "python3"
  },
  "language_info": {
   "codemirror_mode": {
    "name": "ipython",
    "version": 3
   },
   "file_extension": ".py",
   "mimetype": "text/x-python",
   "name": "python",
   "nbconvert_exporter": "python",
   "pygments_lexer": "ipython3",
   "version": "3.6.10"
  }
 },
 "nbformat": 4,
 "nbformat_minor": 2
}
